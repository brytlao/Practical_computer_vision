{
  "nbformat": 4,
  "nbformat_minor": 0,
  "metadata": {
    "colab": {
      "name": "CHAPTER_07_Segmentation and Tracking",
      "version": "0.3.2",
      "provenance": [],
      "collapsed_sections": [],
      "include_colab_link": true
    },
    "kernelspec": {
      "name": "python3",
      "display_name": "Python 3"
    },
    "accelerator": "GPU"
  },
  "cells": [
    {
      "cell_type": "markdown",
      "metadata": {
        "id": "view-in-github",
        "colab_type": "text"
      },
      "source": [
        "<a href=\"https://colab.research.google.com/github/brytlao/Practical_computer_vision/blob/master/CHAPTER_07_Segmentation_and_Tracking.ipynb\" target=\"_parent\"><img src=\"https://colab.research.google.com/assets/colab-badge.svg\" alt=\"Open In Colab\"/></a>"
      ]
    },
    {
      "metadata": {
        "id": "bmd_56Gqrd8r",
        "colab_type": "text"
      },
      "cell_type": "markdown",
      "source": [
        "# **Chapter 07: Segmentation and Tracking**"
      ]
    },
    {
      "metadata": {
        "id": "D0D-o3RLrieZ",
        "colab_type": "text"
      },
      "cell_type": "markdown",
      "source": [
        "quick summary ???"
      ]
    },
    {
      "metadata": {
        "id": "zU85vVtCrkzA",
        "colab_type": "text"
      },
      "cell_type": "markdown",
      "source": [
        "# **Datasets and libraries required**"
      ]
    },
    {
      "metadata": {
        "id": "puV0cnZpq9Nv",
        "colab_type": "code",
        "outputId": "8c0b46be-bfb6-4f22-88d9-fa853102a3a8",
        "colab": {
          "base_uri": "https://localhost:8080/",
          "height": 35
        }
      },
      "cell_type": "code",
      "source": [
        "# image processing: opencv and numpy\n",
        "import cv2\n",
        "import numpy as np\n",
        "\n",
        "# deep learning: keras and tensorflow\n",
        "import tensorflow as tf\n",
        "import tensorflow_datasets as tfds\n",
        "import tensorflow.keras.layers as tfkl\n",
        "print(tf.__version__)"
      ],
      "execution_count": 0,
      "outputs": [
        {
          "output_type": "stream",
          "text": [
            "1.13.1\n"
          ],
          "name": "stdout"
        }
      ]
    },
    {
      "metadata": {
        "id": "vUcGoGnmvb-K",
        "colab_type": "code",
        "outputId": "687390ff-9578-4528-bc83-2c351555b6bb",
        "colab": {
          "base_uri": "https://localhost:8080/",
          "height": 54
        }
      },
      "cell_type": "code",
      "source": [
        "# segmentation dataset: pascal voc\n",
        "dataset, metadata = tfds.load(\"voc2007\", with_info=True)\n",
        "train_dataset, test_dataset = dataset['train'], dataset['test']\n",
        "\n",
        "# explore imported data\n",
        "num_train_examples = metadata.splits['train'].num_examples\n",
        "num_test_examples = metadata.splits['test'].num_examples\n",
        "print(\"number of training samples: {}\".format(num_train_examples))\n",
        "print(\"number of test samples: {}\".format(num_test_examples))"
      ],
      "execution_count": 0,
      "outputs": [
        {
          "output_type": "stream",
          "text": [
            "number of training samples: 2501\n",
            "number of test samples: 4952\n"
          ],
          "name": "stdout"
        }
      ]
    },
    {
      "metadata": {
        "id": "kWF_39KmwPq0",
        "colab_type": "code",
        "colab": {}
      },
      "cell_type": "code",
      "source": [
        "# tracking dataset: mot16\n",
        "\n",
        "# explore imported data\n"
      ],
      "execution_count": 0,
      "outputs": []
    },
    {
      "metadata": {
        "id": "BpaJLZ2FrsIM",
        "colab_type": "text"
      },
      "cell_type": "markdown",
      "source": [
        "# **Segmentation**"
      ]
    },
    {
      "metadata": {
        "id": "kyX72rmirzmi",
        "colab_type": "text"
      },
      "cell_type": "markdown",
      "source": [
        "**Challenges in segmentation**"
      ]
    },
    {
      "metadata": {
        "id": "28v6oS9XuLl-",
        "colab_type": "text"
      },
      "cell_type": "markdown",
      "source": [
        "*   noisy boundaries\n",
        "*   cluttered scene"
      ]
    },
    {
      "metadata": {
        "id": "1W-jxYyCr18L",
        "colab_type": "text"
      },
      "cell_type": "markdown",
      "source": [
        "**Implementation of segmentation**"
      ]
    },
    {
      "metadata": {
        "id": "oPFNmgLwf-vH",
        "colab_type": "code",
        "colab": {}
      },
      "cell_type": "code",
      "source": [
        "# create fcn32 model\n",
        "def create_model_fcn32(num_class,input_w=256):\n",
        "  \"\"\"\n",
        "  create FCN-32s model for segmentation\n",
        "  input:\n",
        "    num_class: number of detection categories\n",
        "    input_w: input width, using square image\n",
        "  returns created model\n",
        "  \"\"\" \n",
        "  # using VGG with pretrained weights\n",
        "  model = tf.keras.Sequential()\n",
        "  #model.add(tfk.applications.VGG16(include_top=False,\n",
        "  #                                      weights='imagenet',\n",
        "  #                                      input_tensor=(input_w,input_w,3)))\n",
        "  \n",
        "  # extend network\n",
        "  model.add(tfkl.Conv2D(4096,kernel_size=(7,7),use_bias=False,\n",
        "            activation='relu',padding='same'))\n",
        "  #tfkl.Dropout\n",
        "  #tf.keras.layers.Conv2D()\n",
        "  #tf.keras.layers.Dropout\n",
        "  #tf.keras.layers.Conv2D()\n",
        "  #tf.keras.layers.Conv2DTranspose()\n",
        "  #tf.keras.layers.Dense(10, activation=tf.nn.softmax)\n",
        "  \n",
        "  \n",
        "  # model summary\n",
        "  model.summary()\n",
        "  \n",
        "  return model"
      ],
      "execution_count": 0,
      "outputs": []
    },
    {
      "metadata": {
        "id": "YJWZXLna0mMs",
        "colab_type": "code",
        "outputId": "139a8d68-dcdd-46db-c16d-e1a7c2b500eb",
        "colab": {
          "base_uri": "https://localhost:8080/",
          "height": 342
        }
      },
      "cell_type": "code",
      "source": [
        "# create model for 21 classes\n",
        "model = create_model_fcn32(21)"
      ],
      "execution_count": 0,
      "outputs": [
        {
          "output_type": "error",
          "ename": "ValueError",
          "evalue": "ignored",
          "traceback": [
            "\u001b[0;31m---------------------------------------------------------------------------\u001b[0m",
            "\u001b[0;31mValueError\u001b[0m                                Traceback (most recent call last)",
            "\u001b[0;32m<ipython-input-24-ca7f492b8d36>\u001b[0m in \u001b[0;36m<module>\u001b[0;34m()\u001b[0m\n\u001b[0;32m----> 1\u001b[0;31m \u001b[0mmodel\u001b[0m \u001b[0;34m=\u001b[0m \u001b[0mcreate_model_fcn32\u001b[0m\u001b[0;34m(\u001b[0m\u001b[0;36m21\u001b[0m\u001b[0;34m)\u001b[0m\u001b[0;34m\u001b[0m\u001b[0;34m\u001b[0m\u001b[0m\n\u001b[0m",
            "\u001b[0;32m<ipython-input-23-b8f8ed9a642e>\u001b[0m in \u001b[0;36mcreate_model_fcn32\u001b[0;34m(num_class, input_w)\u001b[0m\n\u001b[1;32m     25\u001b[0m \u001b[0;34m\u001b[0m\u001b[0m\n\u001b[1;32m     26\u001b[0m   \u001b[0;31m# model summary\u001b[0m\u001b[0;34m\u001b[0m\u001b[0;34m\u001b[0m\u001b[0;34m\u001b[0m\u001b[0m\n\u001b[0;32m---> 27\u001b[0;31m   \u001b[0mmodel\u001b[0m\u001b[0;34m.\u001b[0m\u001b[0msummary\u001b[0m\u001b[0;34m(\u001b[0m\u001b[0;34m)\u001b[0m\u001b[0;34m\u001b[0m\u001b[0;34m\u001b[0m\u001b[0m\n\u001b[0m\u001b[1;32m     28\u001b[0m \u001b[0;34m\u001b[0m\u001b[0m\n\u001b[1;32m     29\u001b[0m   \u001b[0;32mreturn\u001b[0m \u001b[0mmodel\u001b[0m\u001b[0;34m\u001b[0m\u001b[0;34m\u001b[0m\u001b[0m\n",
            "\u001b[0;32m/usr/local/lib/python3.6/dist-packages/tensorflow/python/keras/engine/network.py\u001b[0m in \u001b[0;36msummary\u001b[0;34m(self, line_length, positions, print_fn)\u001b[0m\n\u001b[1;32m   1607\u001b[0m     \"\"\"\n\u001b[1;32m   1608\u001b[0m     \u001b[0;32mif\u001b[0m \u001b[0;32mnot\u001b[0m \u001b[0mself\u001b[0m\u001b[0;34m.\u001b[0m\u001b[0mbuilt\u001b[0m\u001b[0;34m:\u001b[0m\u001b[0;34m\u001b[0m\u001b[0;34m\u001b[0m\u001b[0m\n\u001b[0;32m-> 1609\u001b[0;31m       raise ValueError('This model has not yet been built. '\n\u001b[0m\u001b[1;32m   1610\u001b[0m                        \u001b[0;34m'Build the model first by calling `build()` or calling '\u001b[0m\u001b[0;34m\u001b[0m\u001b[0;34m\u001b[0m\u001b[0m\n\u001b[1;32m   1611\u001b[0m                        \u001b[0;34m'`fit()` with some data, or specify '\u001b[0m\u001b[0;34m\u001b[0m\u001b[0;34m\u001b[0m\u001b[0m\n",
            "\u001b[0;31mValueError\u001b[0m: This model has not yet been built. Build the model first by calling `build()` or calling `fit()` with some data, or specify an `input_shape` argument in the first layer(s) for automatic build."
          ]
        }
      ]
    },
    {
      "metadata": {
        "id": "EOWzKz4XruDP",
        "colab_type": "text"
      },
      "cell_type": "markdown",
      "source": [
        "# **Tracking**"
      ]
    },
    {
      "metadata": {
        "id": "EDRiY30lr4aD",
        "colab_type": "text"
      },
      "cell_type": "markdown",
      "source": [
        "**Challenges in tracking**"
      ]
    },
    {
      "metadata": {
        "id": "zbUJu1XQ0hkk",
        "colab_type": "text"
      },
      "cell_type": "markdown",
      "source": [
        "*   object occlusion\n",
        "*   fast movement\n",
        "*   change of shape\n",
        "*   false positives"
      ]
    },
    {
      "metadata": {
        "id": "Rmz6rizvsAyy",
        "colab_type": "text"
      },
      "cell_type": "markdown",
      "source": [
        "**MOSSE tracker**"
      ]
    },
    {
      "metadata": {
        "id": "MPlbmL3a4L23",
        "colab_type": "code",
        "colab": {}
      },
      "cell_type": "code",
      "source": [
        ""
      ],
      "execution_count": 0,
      "outputs": []
    }
  ]
}