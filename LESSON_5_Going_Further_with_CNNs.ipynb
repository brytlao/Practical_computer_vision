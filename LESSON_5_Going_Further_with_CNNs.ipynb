{
  "nbformat": 4,
  "nbformat_minor": 0,
  "metadata": {
    "colab": {
      "name": "LESSON 5: Going Further with CNNs",
      "version": "0.3.2",
      "provenance": [],
      "collapsed_sections": [],
      "include_colab_link": true
    },
    "kernelspec": {
      "name": "python3",
      "display_name": "Python 3"
    }
  },
  "cells": [
    {
      "cell_type": "markdown",
      "metadata": {
        "id": "view-in-github",
        "colab_type": "text"
      },
      "source": [
        "<a href=\"https://colab.research.google.com/github/brytlao/Practical_computer_vision/blob/master/LESSON_5_Going_Further_with_CNNs.ipynb\" target=\"_parent\"><img src=\"https://colab.research.google.com/assets/colab-badge.svg\" alt=\"Open In Colab\"/></a>"
      ]
    },
    {
      "cell_type": "markdown",
      "metadata": {
        "id": "JqL-W5CKxnwN",
        "colab_type": "text"
      },
      "source": [
        "#**Dogs vs Cats Image Classification Without Image Augmentation**"
      ]
    },
    {
      "cell_type": "markdown",
      "metadata": {
        "id": "Z79z1Vo2xrlK",
        "colab_type": "text"
      },
      "source": [
        "##Import package"
      ]
    },
    {
      "cell_type": "markdown",
      "metadata": {
        "id": "VheZXtkax4Tb",
        "colab_type": "text"
      },
      "source": [
        "##Load data"
      ]
    },
    {
      "cell_type": "markdown",
      "metadata": {
        "id": "rG_9fentx6Gw",
        "colab_type": "text"
      },
      "source": [
        "##Set model params"
      ]
    },
    {
      "cell_type": "markdown",
      "metadata": {
        "id": "LpdRi8mlx9bT",
        "colab_type": "text"
      },
      "source": [
        "##Data prep"
      ]
    },
    {
      "cell_type": "markdown",
      "metadata": {
        "id": "VGG2jwuxyCP1",
        "colab_type": "text"
      },
      "source": [
        "##Model creation"
      ]
    },
    {
      "cell_type": "code",
      "metadata": {
        "id": "fJDpDLk1yDNq",
        "colab_type": "code",
        "colab": {}
      },
      "source": [
        ""
      ],
      "execution_count": 0,
      "outputs": []
    }
  ]
}