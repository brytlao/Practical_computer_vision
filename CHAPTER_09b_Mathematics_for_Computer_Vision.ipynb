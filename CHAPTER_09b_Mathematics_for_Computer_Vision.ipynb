{
  "nbformat": 4,
  "nbformat_minor": 0,
  "metadata": {
    "colab": {
      "name": "CHAPTER_09b_Mathematics for Computer Vision",
      "version": "0.3.2",
      "provenance": [],
      "collapsed_sections": [],
      "include_colab_link": true
    },
    "kernelspec": {
      "name": "python3",
      "display_name": "Python 3"
    }
  },
  "cells": [
    {
      "cell_type": "markdown",
      "metadata": {
        "id": "view-in-github",
        "colab_type": "text"
      },
      "source": [
        "<a href=\"https://colab.research.google.com/github/brytlao/Practical_computer_vision/blob/master/CHAPTER_09b_Mathematics_for_Computer_Vision.ipynb\" target=\"_parent\"><img src=\"https://colab.research.google.com/assets/colab-badge.svg\" alt=\"Open In Colab\"/></a>"
      ]
    },
    {
      "metadata": {
        "id": "MgCV7gnOj95l",
        "colab_type": "text"
      },
      "cell_type": "markdown",
      "source": [
        "# **Chapter 09b: Mathematics for Computer Vision**"
      ]
    },
    {
      "metadata": {
        "id": "fAbQUYzej9q0",
        "colab_type": "text"
      },
      "cell_type": "markdown",
      "source": [
        "Part 2 of 2 in Chapter 09. Tackles topics on probability theory."
      ]
    },
    {
      "metadata": {
        "id": "ln3JK188TpxO",
        "colab_type": "text"
      },
      "cell_type": "markdown",
      "source": [
        "# **Some terminologies**"
      ]
    },
    {
      "metadata": {
        "id": "WHDE3m4NTx_9",
        "colab_type": "text"
      },
      "cell_type": "markdown",
      "source": [
        "**Random variables**"
      ]
    },
    {
      "metadata": {
        "id": "_wtpi0Y2UlO4",
        "colab_type": "text"
      },
      "cell_type": "markdown",
      "source": [
        "\n",
        "\n",
        "*   Discrete: Probability Mass Function (PMF)\n",
        "*   Continuous: Probability Density Function (PDF)\n",
        "\n"
      ]
    },
    {
      "metadata": {
        "id": "cua3KPM4T0cg",
        "colab_type": "text"
      },
      "cell_type": "markdown",
      "source": [
        "**Expectation**"
      ]
    },
    {
      "metadata": {
        "id": "q-GVeyIbUyZK",
        "colab_type": "text"
      },
      "cell_type": "markdown",
      "source": [
        "\n",
        "\n",
        "*   Discrete: $\\mathbb E_{x\\sim P}[f(x)]=\\sum_x P(x)f(x)$\n",
        "*   Continuous: $\\mathbb E_{x\\sim p}[f(x)]=\\int p(x)f(x)dx$\n",
        "\n"
      ]
    },
    {
      "metadata": {
        "id": "hQZ7kgGCT3XP",
        "colab_type": "text"
      },
      "cell_type": "markdown",
      "source": [
        "**Variance**"
      ]
    },
    {
      "metadata": {
        "id": "NUE7Lt0FWho7",
        "colab_type": "text"
      },
      "cell_type": "markdown",
      "source": [
        "\n",
        "\n",
        "*   Discrete: $Var[x]=\\mathbb E [(x-\\mathbb E(x))^2]$\n",
        "*   Continuous: $Var[x]=\\mathbb E[x^2]-\\mathbb E[x]^2$\n",
        "\n"
      ]
    },
    {
      "metadata": {
        "id": "qNgrza3nSD0T",
        "colab_type": "text"
      },
      "cell_type": "markdown",
      "source": [
        "# **Probability distributions**"
      ]
    },
    {
      "metadata": {
        "id": "_SlBD_u9SKY_",
        "colab_type": "text"
      },
      "cell_type": "markdown",
      "source": [
        "**Bernoulli distribution**"
      ]
    },
    {
      "metadata": {
        "id": "A8MykdRuW_L1",
        "colab_type": "text"
      },
      "cell_type": "markdown",
      "source": [
        "*   $\n",
        "p(x)=\n",
        "\\begin{cases}\n",
        "p & \\text{if } k=1 \\\\\n",
        "1-p & \\text{if }  k=0\n",
        "\\end{cases}\n",
        "$"
      ]
    },
    {
      "metadata": {
        "id": "fzu48cPPW-gF",
        "colab_type": "code",
        "colab": {
          "base_uri": "https://localhost:8080/",
          "height": 483
        },
        "outputId": "dd3a7a11-d38a-4c59-ade4-cdcc61a2e7a7"
      },
      "cell_type": "code",
      "source": [
        "from scipy.stats import bernoulli\n",
        "import matplotlib.pyplot as plt\n",
        "\n",
        "# parameters\n",
        "p = 0.3\n",
        "\n",
        "# assign distribution\n",
        "random_variable = bernoulli(p)\n",
        "\n",
        "# probability mass function\n",
        "x = np.linspace(0,10,11)\n",
        "f = random_variable.pmf(x)\n",
        "\n",
        "# plot\n",
        "plt.figure(figsize=(12,8))\n",
        "plt.vlines(x,0,f)\n",
        "plt.show()"
      ],
      "execution_count": 8,
      "outputs": [
        {
          "output_type": "display_data",
          "data": {
            "image/png": "[encoded data removed]",
            "text/plain": [
              "<Figure size 864x576 with 1 Axes>"
            ]
          },
          "metadata": {
            "tags": []
          }
        }
      ]
    },
    {
      "metadata": {
        "id": "V4LBMgLlSS9g",
        "colab_type": "text"
      },
      "cell_type": "markdown",
      "source": [
        "**Binomial distribution**"
      ]
    },
    {
      "metadata": {
        "id": "VvOKVUiVdyvn",
        "colab_type": "text"
      },
      "cell_type": "markdown",
      "source": [
        "*   $p(x)={n\\choose x} p^x(1-p)^{n-x}$"
      ]
    },
    {
      "metadata": {
        "id": "Xx8sosVAeIys",
        "colab_type": "code",
        "colab": {
          "base_uri": "https://localhost:8080/",
          "height": 483
        },
        "outputId": "d9d54cbe-7869-4b3f-b3af-b868c243f2a1"
      },
      "cell_type": "code",
      "source": [
        "from scipy.stats import binom\n",
        "import numpy as np\n",
        "import matplotlib.pyplot as plt\n",
        "\n",
        "# parameters\n",
        "n = 10\n",
        "p = 0.3\n",
        "\n",
        "# assign distribution\n",
        "random_variable = binom(n,p)\n",
        "\n",
        "# probability mass function\n",
        "x = np.linspace(0,10,11)\n",
        "f = random_variable.pmf(x)\n",
        "\n",
        "# plot\n",
        "plt.figure(figsize=(12,8))\n",
        "plt.vlines(x,0,f)\n",
        "plt.show()"
      ],
      "execution_count": 7,
      "outputs": [
        {
          "output_type": "display_data",
          "data": {
            "image/png": "[encoded data removed]",
            "text/plain": [
              "<Figure size 864x576 with 1 Axes>"
            ]
          },
          "metadata": {
            "tags": []
          }
        }
      ]
    },
    {
      "metadata": {
        "id": "VsEtJUqXSaDQ",
        "colab_type": "text"
      },
      "cell_type": "markdown",
      "source": [
        "**Poisson distribution**"
      ]
    },
    {
      "metadata": {
        "id": "ABqyOrNAeZAe",
        "colab_type": "text"
      },
      "cell_type": "markdown",
      "source": [
        "*   $p(x)=exp(-\\lambda)\\frac{\\lambda^x}{x!}$"
      ]
    },
    {
      "metadata": {
        "id": "ahFweDjLeat-",
        "colab_type": "code",
        "colab": {
          "base_uri": "https://localhost:8080/",
          "height": 483
        },
        "outputId": "4be3104a-069c-4cf9-a230-1d912ef8f0b7"
      },
      "cell_type": "code",
      "source": [
        "from scipy.stats import poisson\n",
        "import matplotlib.pyplot as plt\n",
        "\n",
        "# parameters\n",
        "lambda_ = 0.1\n",
        "\n",
        "# assign distribution\n",
        "random_variable = poisson(lambda_)\n",
        "\n",
        "# probability mass function\n",
        "x = np.linspace(0,5,11)\n",
        "f = random_variable.pmf(x)\n",
        "\n",
        "# plot\n",
        "plt.figure(figsize=(12,8))\n",
        "plt.vlines(x,0,f)\n",
        "plt.show()"
      ],
      "execution_count": 17,
      "outputs": [
        {
          "output_type": "display_data",
          "data": {
            "image/png": "[encoded data removed]",
            "text/plain": [
              "<Figure size 864x576 with 1 Axes>"
            ]
          },
          "metadata": {
            "tags": []
          }
        }
      ]
    },
    {
      "metadata": {
        "id": "zSkjMu3lSfiJ",
        "colab_type": "text"
      },
      "cell_type": "markdown",
      "source": [
        "**Uniform distribution**"
      ]
    },
    {
      "metadata": {
        "id": "7R-NBgcCeb60",
        "colab_type": "text"
      },
      "cell_type": "markdown",
      "source": [
        "*   $p(x)=\n",
        "\\begin{cases}\n",
        "\\frac{1}{b-a} & \\text{if } a \\leq x \\leq b \\\\\n",
        "0 & \\text{otherwise} \\\\\n",
        "\\end{cases}\n",
        "$"
      ]
    },
    {
      "metadata": {
        "id": "hzfnf41aebaG",
        "colab_type": "code",
        "colab": {
          "base_uri": "https://localhost:8080/",
          "height": 483
        },
        "outputId": "8baccbd9-f3f3-4256-b469-feabee968da6"
      },
      "cell_type": "code",
      "source": [
        "from scipy.stats import uniform\n",
        "import matplotlib.pyplot as plt\n",
        "\n",
        "# assign distribution\n",
        "random_variable = uniform()\n",
        "\n",
        "# probability mass function\n",
        "x = np.linspace(0,1,11)\n",
        "f = random_variable.pdf(x)\n",
        "\n",
        "# plot\n",
        "plt.figure(figsize=(12,8))\n",
        "plt.vlines(x,0,f)\n",
        "plt.show()"
      ],
      "execution_count": 19,
      "outputs": [
        {
          "output_type": "display_data",
          "data": {
            "image/png": "[encoded data removed]",
            "text/plain": [
              "<Figure size 864x576 with 1 Axes>"
            ]
          },
          "metadata": {
            "tags": []
          }
        }
      ]
    },
    {
      "metadata": {
        "id": "0WrwiovfSjNB",
        "colab_type": "text"
      },
      "cell_type": "markdown",
      "source": [
        "**Gaussian distribution**"
      ]
    },
    {
      "metadata": {
        "id": "od_eiXNblF2Q",
        "colab_type": "text"
      },
      "cell_type": "markdown",
      "source": [
        "*   $p(x)=\\frac{1}{\\sqrt{2\\pi}\\sigma}exp(-\\frac{(x-\\mu)^2}{2\\sigma^2})$"
      ]
    },
    {
      "metadata": {
        "id": "Gi2AapS5mInz",
        "colab_type": "code",
        "colab": {
          "base_uri": "https://localhost:8080/",
          "height": 483
        },
        "outputId": "8db58d6e-b71c-4427-ced8-557c515a01d5"
      },
      "cell_type": "code",
      "source": [
        "from scipy.stats import norm\n",
        "import matplotlib.pyplot as plt\n",
        "\n",
        "# assign distribution\n",
        "random_variable = norm\n",
        "\n",
        "# probability mass function\n",
        "x = np.linspace(-5,5,20)\n",
        "f = random_variable.pdf(x) # no pmf\n",
        "\n",
        "# plot\n",
        "plt.figure(figsize=(12,8))\n",
        "plt.vlines(x,0,f)\n",
        "plt.show()"
      ],
      "execution_count": 23,
      "outputs": [
        {
          "output_type": "display_data",
          "data": {
            "image/png": "[encoded data removed]",
            "text/plain": [
              "<Figure size 864x576 with 1 Axes>"
            ]
          },
          "metadata": {
            "tags": []
          }
        }
      ]
    },
    {
      "metadata": {
        "id": "ZUUWSgJqSpE5",
        "colab_type": "text"
      },
      "cell_type": "markdown",
      "source": [
        "**Joint distribution**"
      ]
    },
    {
      "metadata": {
        "id": "F0neMT8em4jc",
        "colab_type": "text"
      },
      "cell_type": "markdown",
      "source": [
        "*   $P(x,y)$"
      ]
    },
    {
      "metadata": {
        "id": "q9ZIDK01Sroz",
        "colab_type": "text"
      },
      "cell_type": "markdown",
      "source": [
        "**Marginal distribution**"
      ]
    },
    {
      "metadata": {
        "id": "W6S14Wlcm-5T",
        "colab_type": "text"
      },
      "cell_type": "markdown",
      "source": [
        "*   Discrete: $P_y(y)=\\sum_x P(x,y)$\n",
        "*   Continuous: $P_y(y)=\\int P(x,y)dx$"
      ]
    },
    {
      "metadata": {
        "id": "YGXnTkemS1Ij",
        "colab_type": "text"
      },
      "cell_type": "markdown",
      "source": [
        "**Conditional distribution**"
      ]
    },
    {
      "metadata": {
        "id": "B1GVKmC6nyQk",
        "colab_type": "text"
      },
      "cell_type": "markdown",
      "source": [
        "*   $P_{x|y}(x|y)=\\frac{P(x,y)}{P_y(y)}$"
      ]
    },
    {
      "metadata": {
        "id": "HXWA2ZoIS3qS",
        "colab_type": "text"
      },
      "cell_type": "markdown",
      "source": [
        "**Bayes theorem**"
      ]
    },
    {
      "metadata": {
        "id": "9c4jx8nRopqA",
        "colab_type": "text"
      },
      "cell_type": "markdown",
      "source": [
        "*  $P_y(y)=\\int_{-\\infty}^{\\infty}P_{y|x}(y|x')P_x(x')dx'$\n",
        "*  where $P_{x|y}(x|y)=\\frac{P(x,y)}{P_y(y)}=\\frac{P_{y|x}(y|x)P_x(x)}{P_y(y)}$"
      ]
    }
  ]
}