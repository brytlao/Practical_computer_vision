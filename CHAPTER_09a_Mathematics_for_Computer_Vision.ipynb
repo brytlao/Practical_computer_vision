{
  "nbformat": 4,
  "nbformat_minor": 0,
  "metadata": {
    "colab": {
      "name": "CHAPTER_09a_Mathematics for Computer Vision",
      "version": "0.3.2",
      "provenance": [],
      "collapsed_sections": [],
      "include_colab_link": true
    },
    "kernelspec": {
      "name": "python3",
      "display_name": "Python 3"
    },
    "accelerator": "GPU"
  },
  "cells": [
    {
      "cell_type": "markdown",
      "metadata": {
        "id": "view-in-github",
        "colab_type": "text"
      },
      "source": [
        "<a href=\"https://colab.research.google.com/github/brytlao/Practical_computer_vision/blob/master/CHAPTER_09a_Mathematics_for_Computer_Vision.ipynb\" target=\"_parent\"><img src=\"https://colab.research.google.com/assets/colab-badge.svg\" alt=\"Open In Colab\"/></a>"
      ]
    },
    {
      "metadata": {
        "id": "tRMJ7QbRjr7H",
        "colab_type": "text"
      },
      "cell_type": "markdown",
      "source": [
        "# **Chapter 09a: Mathematics for Computer Vision**"
      ]
    },
    {
      "metadata": {
        "id": "BGwzzlw-j14P",
        "colab_type": "text"
      },
      "cell_type": "markdown",
      "source": [
        "Part 1 of 2 in Chapter 09. Tackles topics on linear algebra."
      ]
    },
    {
      "metadata": {
        "id": "uD0UBzZKgQbL",
        "colab_type": "text"
      },
      "cell_type": "markdown",
      "source": [
        "# **Install and import dependencies**"
      ]
    },
    {
      "metadata": {
        "id": "3c9GBS0BfzN-",
        "colab_type": "code",
        "colab": {}
      },
      "cell_type": "code",
      "source": [
        "# helper libraries\n",
        "import numpy as np\n",
        "import scipy as sp\n",
        "import matplotlib.pyplot as plt"
      ],
      "execution_count": 0,
      "outputs": []
    },
    {
      "metadata": {
        "id": "s4suyN4lhVli",
        "colab_type": "text"
      },
      "cell_type": "markdown",
      "source": [
        "# **Vectors**"
      ]
    },
    {
      "metadata": {
        "id": "W6GRqjtPlkWM",
        "colab_type": "text"
      },
      "cell_type": "markdown",
      "source": [
        "**Definition**"
      ]
    },
    {
      "metadata": {
        "id": "hMonDz97ll3l",
        "colab_type": "code",
        "colab": {}
      },
      "cell_type": "code",
      "source": [
        "#p = [1,2,3]\n",
        "p = np.array([1,2,3])"
      ],
      "execution_count": 0,
      "outputs": []
    },
    {
      "metadata": {
        "id": "GAb3ldNQldmP",
        "colab_type": "text"
      },
      "cell_type": "markdown",
      "source": [
        "**Length or magnitude**"
      ]
    },
    {
      "metadata": {
        "id": "SGn48uqUlh6n",
        "colab_type": "code",
        "outputId": "60e8e058-3dcb-49f3-8a9f-2419c15f439b",
        "colab": {
          "base_uri": "https://localhost:8080/",
          "height": 34
        }
      },
      "cell_type": "code",
      "source": [
        "print(\"length: {}\".format(len(p)))"
      ],
      "execution_count": 0,
      "outputs": [
        {
          "output_type": "stream",
          "text": [
            "length: 3\n"
          ],
          "name": "stdout"
        }
      ]
    },
    {
      "metadata": {
        "id": "8Sl37xQ8hdXa",
        "colab_type": "text"
      },
      "cell_type": "markdown",
      "source": [
        "**Addition**"
      ]
    },
    {
      "metadata": {
        "id": "CvDOKTUYl9MU",
        "colab_type": "code",
        "outputId": "e27d5d1e-5b71-4a3b-f839-114e532394e6",
        "colab": {
          "base_uri": "https://localhost:8080/",
          "height": 34
        }
      },
      "cell_type": "code",
      "source": [
        "v1 = np.array([2,3,4,5])\n",
        "v2 = np.array([4,5,6,7])\n",
        "summ = v1+v2\n",
        "\n",
        "print(\"sum: {}\".format(summ))"
      ],
      "execution_count": 0,
      "outputs": [
        {
          "output_type": "stream",
          "text": [
            "sum: [ 6  8 10 12]\n"
          ],
          "name": "stdout"
        }
      ]
    },
    {
      "metadata": {
        "id": "HnzrsmOBhmMU",
        "colab_type": "text"
      },
      "cell_type": "markdown",
      "source": [
        "**Subtraction**"
      ]
    },
    {
      "metadata": {
        "id": "TKSY9HvKmPt1",
        "colab_type": "code",
        "outputId": "118f02a2-297b-470d-ba2f-af1c4bc1ee57",
        "colab": {
          "base_uri": "https://localhost:8080/",
          "height": 34
        }
      },
      "cell_type": "code",
      "source": [
        "v1 = np.array([2,3,4,5])\n",
        "v2 = np.array([4,5,6,7])\n",
        "diff = v1-v2\n",
        "\n",
        "print(\"difference: {}\".format(diff))"
      ],
      "execution_count": 0,
      "outputs": [
        {
          "output_type": "stream",
          "text": [
            "difference: [-2 -2 -2 -2]\n"
          ],
          "name": "stdout"
        }
      ]
    },
    {
      "metadata": {
        "id": "KSQddxAQhoMz",
        "colab_type": "text"
      },
      "cell_type": "markdown",
      "source": [
        "**Vector multiplication**"
      ]
    },
    {
      "metadata": {
        "id": "gQylTdTImVWE",
        "colab_type": "code",
        "outputId": "0e91a470-4c76-477d-fca1-3481633426be",
        "colab": {
          "base_uri": "https://localhost:8080/",
          "height": 119
        }
      },
      "cell_type": "code",
      "source": [
        "v1 = np.array([2,3,4,5])\n",
        "v2 = np.array([4,5,6,7])\n",
        "\n",
        "# inner product/dot product\n",
        "inner = np.inner(v1,v2)\n",
        "print(\"inner product: {}\".format(inner))\n",
        "\n",
        "# outer product\n",
        "outer = np.outer(v1,v2)\n",
        "print(\"outer product:\\n{}\".format(outer))"
      ],
      "execution_count": 0,
      "outputs": [
        {
          "output_type": "stream",
          "text": [
            "inner product: 82\n",
            "outer product:\n",
            "[[ 8 10 12 14]\n",
            " [12 15 18 21]\n",
            " [16 20 24 28]\n",
            " [20 25 30 35]]\n"
          ],
          "name": "stdout"
        }
      ]
    },
    {
      "metadata": {
        "id": "oYXcgHf0huo4",
        "colab_type": "text"
      },
      "cell_type": "markdown",
      "source": [
        "**Vector norm**"
      ]
    },
    {
      "metadata": {
        "id": "5RsEEKNMnzIg",
        "colab_type": "code",
        "outputId": "0f606ae7-9158-474b-aadc-fbd56e60fd9f",
        "colab": {
          "base_uri": "https://localhost:8080/",
          "height": 51
        }
      },
      "cell_type": "code",
      "source": [
        "v1 = np.array([2,3,4,5])\n",
        "\n",
        "# l1-norm\n",
        "norm_l1 = np.linalg.norm(v1,ord=1)\n",
        "print(\"l1-norm: {}\".format(norm_l1))\n",
        "\n",
        "# l2-norm\n",
        "norm_l2 = np.linalg.norm(v1,ord=2)\n",
        "print(\"l2-norm: {}\".format(norm_l2))"
      ],
      "execution_count": 0,
      "outputs": [
        {
          "output_type": "stream",
          "text": [
            "l1-norm: 14.0\n",
            "l2-norm: 7.3484692283495345\n"
          ],
          "name": "stdout"
        }
      ]
    },
    {
      "metadata": {
        "id": "-Ea6xyqvhwbV",
        "colab_type": "text"
      },
      "cell_type": "markdown",
      "source": [
        "**Orthogonality**"
      ]
    },
    {
      "metadata": {
        "id": "1IoY4YJEqKZC",
        "colab_type": "text"
      },
      "cell_type": "markdown",
      "source": [
        "Perpendicular vectors yield a zero inner product."
      ]
    },
    {
      "metadata": {
        "id": "DP6vOTUso77s",
        "colab_type": "code",
        "outputId": "1e4cbbe9-722c-4a61-b0d2-109b4faf56d3",
        "colab": {
          "base_uri": "https://localhost:8080/",
          "height": 68
        }
      },
      "cell_type": "code",
      "source": [
        "v1 = np.array([2,3,4,5])\n",
        "v2 = np.array([-1,1,1,-1]) # orthogonal to v1\n",
        "inner = np.inner(v1,v2)\n",
        "\n",
        "# zero inner products\n",
        "print(\"v1: {}\".format(v1))\n",
        "print(\"v2: {}\".format(v2))\n",
        "print(\"v1 dot v2: {}\".format(inner))"
      ],
      "execution_count": 0,
      "outputs": [
        {
          "output_type": "stream",
          "text": [
            "v1: [2 3 4 5]\n",
            "v2: [-1  1  1 -1]\n",
            "v1 dot v2: 0\n"
          ],
          "name": "stdout"
        }
      ]
    },
    {
      "metadata": {
        "id": "JDc1YZSZh5d2",
        "colab_type": "text"
      },
      "cell_type": "markdown",
      "source": [
        "# **Matrices**"
      ]
    },
    {
      "metadata": {
        "id": "MeGU1AvP4RVE",
        "colab_type": "text"
      },
      "cell_type": "markdown",
      "source": [
        "**Definition**"
      ]
    },
    {
      "metadata": {
        "id": "2uuNMx5r4m6k",
        "colab_type": "code",
        "outputId": "75f554e4-ea96-4d1c-a743-d1b05216f11a",
        "colab": {
          "base_uri": "https://localhost:8080/",
          "height": 153
        }
      },
      "cell_type": "code",
      "source": [
        "A = np.array([[1,2,3],[4,5,6],[7,8,9]])\n",
        "print(\"matrix A:\\n{}\".format(A))\n",
        "\n",
        "B = np.array([[1,1,1],[1,1,1],[1,1,1]])\n",
        "print(\"matrix B:\\n{}\".format(B))"
      ],
      "execution_count": 0,
      "outputs": [
        {
          "output_type": "stream",
          "text": [
            "matrix A:\n",
            "[[1 2 3]\n",
            " [4 5 6]\n",
            " [7 8 9]]\n",
            "matrix B:\n",
            "[[1 1 1]\n",
            " [1 1 1]\n",
            " [1 1 1]]\n"
          ],
          "name": "stdout"
        }
      ]
    },
    {
      "metadata": {
        "id": "dmNIW4Lzh-28",
        "colab_type": "text"
      },
      "cell_type": "markdown",
      "source": [
        "**Addition**"
      ]
    },
    {
      "metadata": {
        "id": "87u0TZjA5LDT",
        "colab_type": "code",
        "outputId": "f27043d2-2152-455d-ce07-75c2fde11e40",
        "colab": {
          "base_uri": "https://localhost:8080/",
          "height": 85
        }
      },
      "cell_type": "code",
      "source": [
        "A = np.array([[1,2,3],[4,5,6],[7,8,9]])\n",
        "B = np.array([[1,1,1],[1,1,1],[1,1,1]])\n",
        "\n",
        "C = A+B\n",
        "print(\"C = A + B:\\n{}\".format(C))"
      ],
      "execution_count": 0,
      "outputs": [
        {
          "output_type": "stream",
          "text": [
            "A + B = C:\n",
            "[[ 2  3  4]\n",
            " [ 5  6  7]\n",
            " [ 8  9 10]]\n"
          ],
          "name": "stdout"
        }
      ]
    },
    {
      "metadata": {
        "id": "99Nm8Be0iBSP",
        "colab_type": "text"
      },
      "cell_type": "markdown",
      "source": [
        "**Subtraction**"
      ]
    },
    {
      "metadata": {
        "id": "POASmAnK5Wy_",
        "colab_type": "code",
        "outputId": "27bb8ce0-249f-4a3d-ed76-378d951aed4c",
        "colab": {
          "base_uri": "https://localhost:8080/",
          "height": 85
        }
      },
      "cell_type": "code",
      "source": [
        "A = np.array([[1,2,3],[4,5,6],[7,8,9]])\n",
        "B = np.array([[1,1,1],[1,1,1],[1,1,1]])\n",
        "\n",
        "C = A-B\n",
        "print(\"C = A - B:\\n{}\".format(C))"
      ],
      "execution_count": 0,
      "outputs": [
        {
          "output_type": "stream",
          "text": [
            "A - B = C:\n",
            "[[0 1 2]\n",
            " [3 4 5]\n",
            " [6 7 8]]\n"
          ],
          "name": "stdout"
        }
      ]
    },
    {
      "metadata": {
        "id": "PuBvamDtiEO4",
        "colab_type": "text"
      },
      "cell_type": "markdown",
      "source": [
        "**Matrix multiplication**"
      ]
    },
    {
      "metadata": {
        "id": "Bp6t0HIx5xs9",
        "colab_type": "code",
        "outputId": "f9e9b308-7e69-4551-fd63-bb361888615b",
        "colab": {
          "base_uri": "https://localhost:8080/",
          "height": 68
        }
      },
      "cell_type": "code",
      "source": [
        "A = np.array([[1,2,3],[4,5,6]]) # 2 x 3\n",
        "B = np.array([[1,0],[0,1],[1,0]]) # 3 x 2\n",
        "\n",
        "C = np.dot(A,B) # 2 x 2\n",
        "\n",
        "print(\"C = AB:\\n{}\".format(C))"
      ],
      "execution_count": 0,
      "outputs": [
        {
          "output_type": "stream",
          "text": [
            "AB = C:\n",
            "[[ 4  2]\n",
            " [10  5]]\n"
          ],
          "name": "stdout"
        }
      ]
    },
    {
      "metadata": {
        "id": "InCkwTSJiJQE",
        "colab_type": "text"
      },
      "cell_type": "markdown",
      "source": [
        "**Transpose**"
      ]
    },
    {
      "metadata": {
        "id": "NHBeSKTX7JEb",
        "colab_type": "code",
        "outputId": "a8b102d4-d213-4ece-e511-d1f7fb48e235",
        "colab": {
          "base_uri": "https://localhost:8080/",
          "height": 136
        }
      },
      "cell_type": "code",
      "source": [
        "A = np.array([[1,2,3],[4,5,6]])\n",
        "A_trans = np.transpose(A)\n",
        "\n",
        "print(\"matrix A:\\n{}\".format(A))\n",
        "print(\"transpose:\\n{}\".format(A_trans))"
      ],
      "execution_count": 0,
      "outputs": [
        {
          "output_type": "stream",
          "text": [
            "matrix A:\n",
            "[[1 2 3]\n",
            " [4 5 6]]\n",
            "transpose:\n",
            "[[1 4]\n",
            " [2 5]\n",
            " [3 6]]\n"
          ],
          "name": "stdout"
        }
      ]
    },
    {
      "metadata": {
        "id": "8jiFAFbEiNXW",
        "colab_type": "text"
      },
      "cell_type": "markdown",
      "source": [
        "**Identity matrix**"
      ]
    },
    {
      "metadata": {
        "id": "4842ujbW7qgA",
        "colab_type": "code",
        "outputId": "c68ea54c-8b09-448f-eb44-d6f1e3533e75",
        "colab": {
          "base_uri": "https://localhost:8080/",
          "height": 85
        }
      },
      "cell_type": "code",
      "source": [
        "I = np.identity(3)\n",
        "\n",
        "print(\"matrix I:\\n{}\".format(I))"
      ],
      "execution_count": 0,
      "outputs": [
        {
          "output_type": "stream",
          "text": [
            "matrix I:\n",
            "[[1. 0. 0.]\n",
            " [0. 1. 0.]\n",
            " [0. 0. 1.]]\n"
          ],
          "name": "stdout"
        }
      ]
    },
    {
      "metadata": {
        "id": "VBhi71OaiX8d",
        "colab_type": "text"
      },
      "cell_type": "markdown",
      "source": [
        "**Diagonal matrix**"
      ]
    },
    {
      "metadata": {
        "id": "5UBZi8V68E7I",
        "colab_type": "code",
        "outputId": "859f76be-147d-428e-8d0d-10c65a79cc11",
        "colab": {
          "base_uri": "https://localhost:8080/",
          "height": 85
        }
      },
      "cell_type": "code",
      "source": [
        "D = np.array([[1,0,0],[0,2,0],[0,0,3]])\n",
        "\n",
        "print(\"matrix D:\\n{}\".format(D))"
      ],
      "execution_count": 0,
      "outputs": [
        {
          "output_type": "stream",
          "text": [
            "matrix D:\n",
            "[[1 0 0]\n",
            " [0 2 0]\n",
            " [0 0 3]]\n"
          ],
          "name": "stdout"
        }
      ]
    },
    {
      "metadata": {
        "id": "ycCvgD4XiabX",
        "colab_type": "text"
      },
      "cell_type": "markdown",
      "source": [
        "**Symmetric matrix**"
      ]
    },
    {
      "metadata": {
        "id": "F0wELb2e832L",
        "colab_type": "code",
        "outputId": "8e58b0d9-74c2-4bfc-e0ab-293dc82582ec",
        "colab": {
          "base_uri": "https://localhost:8080/",
          "height": 289
        }
      },
      "cell_type": "code",
      "source": [
        "# base matrix\n",
        "A = np.array([[1,2,3],[4,5,6],[7,8,9]])\n",
        "A_trans = np.transpose(A)\n",
        "print(\"matrix A:\\n{}\".format(A))\n",
        "\n",
        "# symmetric\n",
        "S = A+A_trans\n",
        "print(\"S = A + A_trans:\\n{}\".format(S))\n",
        "\n",
        "# anti-symmetric\n",
        "S_anti = A-A_trans\n",
        "print(\"S = A - A_trans:\\n{}\".format(S_anti))\n",
        "\n",
        "# base matrix as summation of symmetric and anti-symmetric matrix\n",
        "summ = 0.5*S + 0.5*S_anti\n",
        "print(\"A = 0.5*S + 0.5*S_anti:\\n{}\".format(summ))"
      ],
      "execution_count": 0,
      "outputs": [
        {
          "output_type": "stream",
          "text": [
            "matrix A:\n",
            "[[1 2 3]\n",
            " [4 5 6]\n",
            " [7 8 9]]\n",
            "S = A + A_trans:\n",
            "[[ 2  6 10]\n",
            " [ 6 10 14]\n",
            " [10 14 18]]\n",
            "S = A - A_trans:\n",
            "[[ 0 -2 -4]\n",
            " [ 2  0 -2]\n",
            " [ 4  2  0]]\n",
            "A = 0.5*S + 0.5*S_anti:\n",
            "[[1. 2. 3.]\n",
            " [4. 5. 6.]\n",
            " [7. 8. 9.]]\n"
          ],
          "name": "stdout"
        }
      ]
    },
    {
      "metadata": {
        "id": "Yw471-w7idyN",
        "colab_type": "text"
      },
      "cell_type": "markdown",
      "source": [
        "**Trace of a matrix**"
      ]
    },
    {
      "metadata": {
        "id": "vhWdZzt7-eTr",
        "colab_type": "code",
        "outputId": "c994450f-3737-40eb-a75a-4d9bc4354e74",
        "colab": {
          "base_uri": "https://localhost:8080/",
          "height": 119
        }
      },
      "cell_type": "code",
      "source": [
        "A = np.array([[1,2,3],[4,5,6],[7,8,9]])\n",
        "A_trace = np.trace(A)\n",
        "\n",
        "print(\"matrix A:\\n{}\".format(A))\n",
        "print(\"trace of A:\\n{}\".format(A_trace))"
      ],
      "execution_count": 0,
      "outputs": [
        {
          "output_type": "stream",
          "text": [
            "matrix A:\n",
            "[[1 2 3]\n",
            " [4 5 6]\n",
            " [7 8 9]]\n",
            "trace of A:\n",
            "15\n"
          ],
          "name": "stdout"
        }
      ]
    },
    {
      "metadata": {
        "id": "VYYwPWVLig8i",
        "colab_type": "text"
      },
      "cell_type": "markdown",
      "source": [
        "**Determinant**"
      ]
    },
    {
      "metadata": {
        "id": "xcD-QKp4-4d9",
        "colab_type": "code",
        "outputId": "e89734a2-f2c1-4089-b24d-8a61cc7a21de",
        "colab": {
          "base_uri": "https://localhost:8080/",
          "height": 102
        }
      },
      "cell_type": "code",
      "source": [
        "A = np.array([[1,2],[3,4]])\n",
        "A_det= np.linalg.det(A)\n",
        "\n",
        "print(\"matrix A:\\n{}\".format(A))\n",
        "print(\"determinant of A:\\n{}\".format(A_det))"
      ],
      "execution_count": 0,
      "outputs": [
        {
          "output_type": "stream",
          "text": [
            "matrix A:\n",
            "[[1 2]\n",
            " [3 4]]\n",
            "determinant of A:\n",
            "-2.0000000000000004\n"
          ],
          "name": "stdout"
        }
      ]
    },
    {
      "metadata": {
        "id": "TrPKGU-rii1A",
        "colab_type": "text"
      },
      "cell_type": "markdown",
      "source": [
        "**Norm of a matrix**"
      ]
    },
    {
      "metadata": {
        "id": "5XSmDBYO_blL",
        "colab_type": "code",
        "outputId": "ba5a056c-3729-4342-bbd7-be362a6e9854",
        "colab": {
          "base_uri": "https://localhost:8080/",
          "height": 119
        }
      },
      "cell_type": "code",
      "source": [
        "A = np.array([[1,2,3],[5,4,6],[9,8,7]])\n",
        "A_norm = np.linalg.norm(A)\n",
        "\n",
        "print(\"matrix A:\\n{}\".format(A))\n",
        "print(\"norm of A:\\n{}\".format(A_norm))"
      ],
      "execution_count": 0,
      "outputs": [
        {
          "output_type": "stream",
          "text": [
            "matrix A:\n",
            "[[1 2 3]\n",
            " [5 4 6]\n",
            " [9 8 7]]\n",
            "norm of A:\n",
            "16.881943016134134\n"
          ],
          "name": "stdout"
        }
      ]
    },
    {
      "metadata": {
        "id": "Fq6QpXG8ili2",
        "colab_type": "text"
      },
      "cell_type": "markdown",
      "source": [
        "**Inverse of a matrix**"
      ]
    },
    {
      "metadata": {
        "id": "ME4YrYUdHNRj",
        "colab_type": "text"
      },
      "cell_type": "markdown",
      "source": [
        "Product of $A$ and $A^{-1}$ yields an identity matrix"
      ]
    },
    {
      "metadata": {
        "id": "0AXKg8rgA9a0",
        "colab_type": "code",
        "outputId": "cf63e109-feef-42a3-bc76-d0373d66a09a",
        "colab": {
          "base_uri": "https://localhost:8080/",
          "height": 221
        }
      },
      "cell_type": "code",
      "source": [
        "A = np.array([[1,2,3],[5,4,6],[9,8,7]])\n",
        "A_inv = np.linalg.inv(A)\n",
        "prod = np.dot(A,A_inv)\n",
        "\n",
        "print(\"matrix A:\\n{}\".format(A))\n",
        "print(\"inverse of A:\\n{}\".format(A_inv))\n",
        "print(\"I = A dot A_inv:\\n{}\".format(prod))"
      ],
      "execution_count": 0,
      "outputs": [
        {
          "output_type": "stream",
          "text": [
            "matrix A:\n",
            "[[1 2 3]\n",
            " [5 4 6]\n",
            " [9 8 7]]\n",
            "inverse of A:\n",
            "[[-6.66666667e-01  3.33333333e-01  4.93432455e-17]\n",
            " [ 6.33333333e-01 -6.66666667e-01  3.00000000e-01]\n",
            " [ 1.33333333e-01  3.33333333e-01 -2.00000000e-01]]\n",
            "I = A dot A_inv:\n",
            "[[ 1.00000000e+00  1.66533454e-16 -5.55111512e-17]\n",
            " [ 3.33066907e-16  1.00000000e+00  1.11022302e-16]\n",
            " [ 8.32667268e-16 -2.77555756e-16  1.00000000e+00]]\n"
          ],
          "name": "stdout"
        }
      ]
    },
    {
      "metadata": {
        "id": "9szXgigHitg4",
        "colab_type": "text"
      },
      "cell_type": "markdown",
      "source": [
        "**Orthogonality**"
      ]
    },
    {
      "metadata": {
        "id": "gxP9DkKCHzjq",
        "colab_type": "text"
      },
      "cell_type": "markdown",
      "source": [
        "For square matrices, if $A^\\top A=I$ and $AA^\\top =I$, then $A^\\top = A^{-1}$."
      ]
    },
    {
      "metadata": {
        "id": "d2zPY1e-IJfj",
        "colab_type": "code",
        "outputId": "feca3678-3394-4595-c00b-eb575e520fee",
        "colab": {
          "base_uri": "https://localhost:8080/",
          "height": 357
        }
      },
      "cell_type": "code",
      "source": [
        "A = np.array([[1,0,0],[0,0,1],[0,1,0]])\n",
        "A_trans = np.transpose(A)\n",
        "A_inv = np.linalg.inv(A)\n",
        "\n",
        "# matrix A\n",
        "print(\"matrix A:\\n{}\".format(A))\n",
        "\n",
        "# A_trans\n",
        "print(\"A_trans:\\n{}\".format(A_trans))\n",
        "\n",
        "# A_inv\n",
        "print(\"A_inv:\\n{}\".format(A_inv))\n",
        "\n",
        "# A_trans dot A\n",
        "ATA = np.dot(A_trans,A)\n",
        "print(\"A_trans dot A:\\n{}\".format(ATA))\n",
        "\n",
        "# A dot A_trans\n",
        "AAT = np.dot(A,A_trans)\n",
        "print(\"A dot A_trans:\\n{}\".format(AAT))"
      ],
      "execution_count": 0,
      "outputs": [
        {
          "output_type": "stream",
          "text": [
            "matrix A:\n",
            "[[1 0 0]\n",
            " [0 0 1]\n",
            " [0 1 0]]\n",
            "A_trans:\n",
            "[[1 0 0]\n",
            " [0 0 1]\n",
            " [0 1 0]]\n",
            "A_inv:\n",
            "[[1. 0. 0.]\n",
            " [0. 0. 1.]\n",
            " [0. 1. 0.]]\n",
            "A_trans dot A:\n",
            "[[1 0 0]\n",
            " [0 1 0]\n",
            " [0 0 1]]\n",
            "A dot A_trans:\n",
            "[[1 0 0]\n",
            " [0 1 0]\n",
            " [0 0 1]]\n"
          ],
          "name": "stdout"
        }
      ]
    },
    {
      "metadata": {
        "id": "vZzi3c71iwQI",
        "colab_type": "text"
      },
      "cell_type": "markdown",
      "source": [
        "**Eigenvalues and eigenvectors**"
      ]
    },
    {
      "metadata": {
        "id": "pd-LvBxbKVMT",
        "colab_type": "code",
        "outputId": "e0b11a6e-998b-4306-f25f-4459e5ff4c2d",
        "colab": {
          "base_uri": "https://localhost:8080/",
          "height": 119
        }
      },
      "cell_type": "code",
      "source": [
        "A = np.array([[1,2,3],[5,4,6],[9,8,7]])\n",
        "eigvals, eigvecs = np.linalg.eig(A)\n",
        "\n",
        "print(\"eigenvalues:\\n{}\".format(eigvals))\n",
        "print(\"eigenvectors:\\n{}\".format(eigvecs))"
      ],
      "execution_count": 0,
      "outputs": [
        {
          "output_type": "stream",
          "text": [
            "eigenvalues:\n",
            "[15.16397149 -2.30607508 -0.85789641]\n",
            "eigenvectors:\n",
            "[[-0.24668682 -0.50330679  0.54359359]\n",
            " [-0.5421775  -0.3518559  -0.8137192 ]\n",
            " [-0.80323668  0.78922728  0.20583261]]\n"
          ],
          "name": "stdout"
        }
      ]
    },
    {
      "metadata": {
        "id": "5X4mTEB2i-64",
        "colab_type": "text"
      },
      "cell_type": "markdown",
      "source": [
        "**Hessian matrix**"
      ]
    },
    {
      "metadata": {
        "id": "q4wXT2gpK7Ou",
        "colab_type": "text"
      },
      "cell_type": "markdown",
      "source": [
        "The Hessian is the second-order gradient $\\nabla_A^2 f(A)$. It can also refer to the determinant of the Hessian matrix$det(\\nabla_A^2 f(A))$.\n",
        "The Jacobian is the first-order gradient $\\nabla_A f(A)$."
      ]
    },
    {
      "metadata": {
        "id": "ZE7sqmq2jBif",
        "colab_type": "text"
      },
      "cell_type": "markdown",
      "source": [
        "**Singular value decomposition**"
      ]
    },
    {
      "metadata": {
        "id": "qCGreNRrQkOx",
        "colab_type": "text"
      },
      "cell_type": "markdown",
      "source": [
        "$A=U\\Sigma V^{-1}$"
      ]
    },
    {
      "metadata": {
        "id": "uwnREflEQPYP",
        "colab_type": "code",
        "outputId": "2c87a2dc-5180-4432-d144-7644125d6611",
        "colab": {
          "base_uri": "https://localhost:8080/",
          "height": 255
        }
      },
      "cell_type": "code",
      "source": [
        "A = np.array([[1,2,3],[5,4,6],[9,8,7]])\n",
        "U, sigma, V = np.linalg.svd(A, full_matrices=True)\n",
        "\n",
        "print(\"matrix A:\\n{}\".format(A))\n",
        "print(\"matrix U:\\n{}\".format(U))\n",
        "print(\"matrix sigma:\\n{}\".format(sigma))\n",
        "print(\"matrix V:\\n{}\".format(V))"
      ],
      "execution_count": 0,
      "outputs": [
        {
          "output_type": "stream",
          "text": [
            "matrix A:\n",
            "[[1 2 3]\n",
            " [5 4 6]\n",
            " [9 8 7]]\n",
            "matrix U:\n",
            "[[-0.20427138  0.64990738  0.73204754]\n",
            " [-0.51870339  0.56234361 -0.64398483]\n",
            " [-0.83019275 -0.51126321  0.22223846]]\n",
            "matrix sigma:\n",
            "[16.72332164  2.15323617  0.83311901]\n",
            "matrix V:\n",
            "[[-0.61408393 -0.54563911 -0.57024459]\n",
            " [-0.52931652 -0.25121094  0.81038083]\n",
            " [-0.58542715  0.79948172 -0.13455119]]\n"
          ],
          "name": "stdout"
        }
      ]
    },
    {
      "metadata": {
        "id": "Uszxv0dCQXf8",
        "colab_type": "code",
        "colab": {}
      },
      "cell_type": "code",
      "source": [
        ""
      ],
      "execution_count": 0,
      "outputs": []
    }
  ]
}