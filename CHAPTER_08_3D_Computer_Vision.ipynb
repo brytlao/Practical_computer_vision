{
  "nbformat": 4,
  "nbformat_minor": 0,
  "metadata": {
    "colab": {
      "name": "CHAPTER_08_3D Computer Vision",
      "version": "0.3.2",
      "provenance": [],
      "collapsed_sections": [],
      "include_colab_link": true
    },
    "kernelspec": {
      "name": "python3",
      "display_name": "Python 3"
    }
  },
  "cells": [
    {
      "cell_type": "markdown",
      "metadata": {
        "id": "view-in-github",
        "colab_type": "text"
      },
      "source": [
        "<a href=\"https://colab.research.google.com/github/brytlao/Practical_computer_vision/blob/master/CHAPTER_08_3D_Computer_Vision.ipynb\" target=\"_parent\"><img src=\"https://colab.research.google.com/assets/colab-badge.svg\" alt=\"Open In Colab\"/></a>"
      ]
    },
    {
      "metadata": {
        "id": "SMsJeexSRNIj",
        "colab_type": "text"
      },
      "cell_type": "markdown",
      "source": [
        "# **Chapter 06: 3D Computer Vision**"
      ]
    },
    {
      "metadata": {
        "id": "1zvGPxoqRR6v",
        "colab_type": "text"
      },
      "cell_type": "markdown",
      "source": [
        "Discussion of computer vision through geometrical perspective."
      ]
    },
    {
      "metadata": {
        "id": "fMrsRt6aRTzq",
        "colab_type": "text"
      },
      "cell_type": "markdown",
      "source": [
        "# **Datasets and libraries required**"
      ]
    },
    {
      "metadata": {
        "id": "WRVGLNhTba3X",
        "colab_type": "code",
        "colab": {}
      },
      "cell_type": "code",
      "source": [
        "# opencvg\n",
        "# vslam\n",
        "# rgbd"
      ],
      "execution_count": 0,
      "outputs": []
    },
    {
      "metadata": {
        "id": "JUlQ3JWjRaUz",
        "colab_type": "text"
      },
      "cell_type": "markdown",
      "source": [
        "# **Applications**"
      ]
    },
    {
      "metadata": {
        "id": "uapX8z1bbnjO",
        "colab_type": "text"
      },
      "cell_type": "markdown",
      "source": [
        "*   drones\n",
        "*   image editing applications\n",
        "*   satellites or space vehicles\n",
        "*   augmented reality"
      ]
    },
    {
      "metadata": {
        "id": "fnMoNllLRf7z",
        "colab_type": "text"
      },
      "cell_type": "markdown",
      "source": [
        "#**Aligning images**"
      ]
    },
    {
      "metadata": {
        "id": "AsrAXPeZn2sh",
        "colab_type": "code",
        "colab": {}
      },
      "cell_type": "code",
      "source": [
        "# function to compute ORB keypoints"
      ],
      "execution_count": 0,
      "outputs": []
    },
    {
      "metadata": {
        "id": "-YbOxq_Rn9QD",
        "colab_type": "code",
        "colab": {}
      },
      "cell_type": "code",
      "source": [
        "# function for brute force matcher"
      ],
      "execution_count": 0,
      "outputs": []
    },
    {
      "metadata": {
        "id": "taNGPFoxoDns",
        "colab_type": "code",
        "colab": {}
      },
      "cell_type": "code",
      "source": [
        "# function to compute fundamental matrix"
      ],
      "execution_count": 0,
      "outputs": []
    },
    {
      "metadata": {
        "id": "G1fi4ac9oMmL",
        "colab_type": "code",
        "colab": {}
      },
      "cell_type": "code",
      "source": [
        "# load images"
      ],
      "execution_count": 0,
      "outputs": []
    },
    {
      "metadata": {
        "id": "gxkalPXXoRNe",
        "colab_type": "code",
        "colab": {}
      },
      "cell_type": "code",
      "source": [
        "# compute fundamental matrix"
      ],
      "execution_count": 0,
      "outputs": []
    },
    {
      "metadata": {
        "id": "JOHwUIlcp7dH",
        "colab_type": "text"
      },
      "cell_type": "markdown",
      "source": [
        "# **Other topics**"
      ]
    },
    {
      "metadata": {
        "id": "ojlqypP7p9x5",
        "colab_type": "text"
      },
      "cell_type": "markdown",
      "source": [
        "*   image formation\n",
        "*   visual odometry\n",
        "*   visual SLAM"
      ]
    }
  ]
}