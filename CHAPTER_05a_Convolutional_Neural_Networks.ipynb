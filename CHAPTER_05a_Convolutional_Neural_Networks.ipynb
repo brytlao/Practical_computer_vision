{
  "nbformat": 4,
  "nbformat_minor": 0,
  "metadata": {
    "colab": {
      "name": "CHAPTER_05a_Convolutional Neural Networks",
      "version": "0.3.2",
      "provenance": [],
      "collapsed_sections": [],
      "include_colab_link": true
    },
    "kernelspec": {
      "name": "python3",
      "display_name": "Python 3"
    },
    "accelerator": "GPU"
  },
  "cells": [
    {
      "cell_type": "markdown",
      "metadata": {
        "id": "view-in-github",
        "colab_type": "text"
      },
      "source": [
        "<a href=\"https://colab.research.google.com/github/brytlao/Practical_computer_vision/blob/master/CHAPTER_05a_Convolutional_Neural_Networks.ipynb\" target=\"_parent\"><img src=\"https://colab.research.google.com/assets/colab-badge.svg\" alt=\"Open In Colab\"/></a>"
      ]
    },
    {
      "metadata": {
        "id": "8RzRzGeiIs2O",
        "colab_type": "text"
      },
      "cell_type": "markdown",
      "source": [
        "# **Chapter 05a: Convolutional Neural Networks**"
      ]
    },
    {
      "metadata": {
        "id": "NlLutRWRIw22",
        "colab_type": "text"
      },
      "cell_type": "markdown",
      "source": [
        "Part 1 of 2 in Chapter 05. Covers basics of neural nets and convolutional nets."
      ]
    },
    {
      "metadata": {
        "id": "J5r2bqafIwsH",
        "colab_type": "text"
      },
      "cell_type": "markdown",
      "source": [
        "# **Datasets and libraries required**"
      ]
    },
    {
      "metadata": {
        "id": "-HbWcnEYIwK6",
        "colab_type": "code",
        "outputId": "4f3ab88b-3d1f-4e2c-a855-5df691ef8b35",
        "colab": {
          "base_uri": "https://localhost:8080/",
          "height": 326
        }
      },
      "cell_type": "code",
      "source": [
        "!pip install -U tensorflow_datasets"
      ],
      "execution_count": 1,
      "outputs": [
        {
          "output_type": "stream",
          "text": [
            "Requirement already up-to-date: tensorflow_datasets in /usr/local/lib/python3.6/dist-packages (1.0.1)\n",
            "Requirement already satisfied, skipping upgrade: termcolor in /usr/local/lib/python3.6/dist-packages (from tensorflow_datasets) (1.1.0)\n",
            "Requirement already satisfied, skipping upgrade: tqdm in /usr/local/lib/python3.6/dist-packages (from tensorflow_datasets) (4.28.1)\n",
            "Requirement already satisfied, skipping upgrade: requests in /usr/local/lib/python3.6/dist-packages (from tensorflow_datasets) (2.18.4)\n",
            "Requirement already satisfied, skipping upgrade: promise in /usr/local/lib/python3.6/dist-packages (from tensorflow_datasets) (2.2.1)\n",
            "Requirement already satisfied, skipping upgrade: wrapt in /usr/local/lib/python3.6/dist-packages (from tensorflow_datasets) (1.10.11)\n",
            "Requirement already satisfied, skipping upgrade: protobuf>=3.6.1 in /usr/local/lib/python3.6/dist-packages (from tensorflow_datasets) (3.7.1)\n",
            "Requirement already satisfied, skipping upgrade: absl-py in /usr/local/lib/python3.6/dist-packages (from tensorflow_datasets) (0.7.1)\n",
            "Requirement already satisfied, skipping upgrade: future in /usr/local/lib/python3.6/dist-packages (from tensorflow_datasets) (0.16.0)\n",
            "Requirement already satisfied, skipping upgrade: six in /usr/local/lib/python3.6/dist-packages (from tensorflow_datasets) (1.11.0)\n",
            "Requirement already satisfied, skipping upgrade: tensorflow-metadata in /usr/local/lib/python3.6/dist-packages (from tensorflow_datasets) (0.13.0)\n",
            "Requirement already satisfied, skipping upgrade: urllib3<1.23,>=1.21.1 in /usr/local/lib/python3.6/dist-packages (from requests->tensorflow_datasets) (1.22)\n",
            "Requirement already satisfied, skipping upgrade: idna<2.7,>=2.5 in /usr/local/lib/python3.6/dist-packages (from requests->tensorflow_datasets) (2.6)\n",
            "Requirement already satisfied, skipping upgrade: certifi>=2017.4.17 in /usr/local/lib/python3.6/dist-packages (from requests->tensorflow_datasets) (2019.3.9)\n",
            "Requirement already satisfied, skipping upgrade: chardet<3.1.0,>=3.0.2 in /usr/local/lib/python3.6/dist-packages (from requests->tensorflow_datasets) (3.0.4)\n",
            "Requirement already satisfied, skipping upgrade: setuptools in /usr/local/lib/python3.6/dist-packages (from protobuf>=3.6.1->tensorflow_datasets) (40.9.0)\n",
            "Requirement already satisfied, skipping upgrade: googleapis-common-protos in /usr/local/lib/python3.6/dist-packages (from tensorflow-metadata->tensorflow_datasets) (1.5.9)\n"
          ],
          "name": "stdout"
        }
      ]
    },
    {
      "metadata": {
        "id": "y0RfEDy6XBS4",
        "colab_type": "code",
        "outputId": "3f90b03f-5cd2-4dad-d784-8b0ac230241c",
        "colab": {
          "base_uri": "https://localhost:8080/",
          "height": 163
        }
      },
      "cell_type": "code",
      "source": [
        "# tensorflow dataset\n",
        "import tensorflow as tf\n",
        "import tensorflow_datasets as tfds\n",
        "tf.logging.set_verbosity(tf.logging.ERROR)\n",
        "\n",
        "# helper libraries\n",
        "import math\n",
        "import numpy as np\n",
        "import matplotlib.pyplot as plt\n",
        "\n",
        "# progress bar display\n",
        "import tqdm\n",
        "import tqdm.auto\n",
        "tqdm.tqdm = tqdm.auto.tqdm\n",
        "\n",
        "# print tf version\n",
        "print(tf.__version__)\n",
        "\n",
        "# tf issue\n",
        "tf.enable_eager_execution()"
      ],
      "execution_count": 2,
      "outputs": [
        {
          "output_type": "stream",
          "text": [
            "\n",
            "WARNING: The TensorFlow contrib module will not be included in TensorFlow 2.0.\n",
            "For more information, please see:\n",
            "  * https://github.com/tensorflow/community/blob/master/rfcs/20180907-contrib-sunset.md\n",
            "  * https://github.com/tensorflow/addons\n",
            "If you depend on functionality not listed there, please file an issue.\n",
            "\n",
            "1.13.1\n"
          ],
          "name": "stdout"
        }
      ]
    },
    {
      "metadata": {
        "id": "G5Bk168oJLE6",
        "colab_type": "text"
      },
      "cell_type": "markdown",
      "source": [
        "# **Convolutional Neural Networks**"
      ]
    },
    {
      "metadata": {
        "id": "rzdMS6M0JQbs",
        "colab_type": "text"
      },
      "cell_type": "markdown",
      "source": [
        "**The convolution layer**"
      ]
    },
    {
      "metadata": {
        "id": "L9Y1nMJrW2i9",
        "colab_type": "code",
        "colab": {}
      },
      "cell_type": "code",
      "source": [
        "# define model, different params as input\n",
        "def print_model(stride_in=1,padding_in=\"same\",bias_in=False):\n",
        "  \"\"\"\n",
        "  create sample model and print model summary\n",
        "  \"\"\"\n",
        "  # create input layer\n",
        "  input1 = tf.keras.Input(shape=(512,512,3))\n",
        "  \n",
        "  # create convolution layer  \n",
        "  conv1 = tf.keras.layers.Conv2D(32,\n",
        "                                 kernel_size=(5,5),\n",
        "                                 strides=stride_in,\n",
        "                                 padding=padding_in,\n",
        "                                 use_bias=bias_in)(input1)\n",
        "  \n",
        "  # create model\n",
        "  model = tf.keras.Model(inputs=input1,\n",
        "                         outputs=conv1)\n",
        "  \n",
        "  # print model summary\n",
        "  model.summary()"
      ],
      "execution_count": 0,
      "outputs": []
    },
    {
      "metadata": {
        "id": "RJGehcsshN5T",
        "colab_type": "text"
      },
      "cell_type": "markdown",
      "source": [
        "Test different parameters of stride, padding, use_bias"
      ]
    },
    {
      "metadata": {
        "id": "vupZeJ9_ga9W",
        "colab_type": "code",
        "outputId": "0a0c3524-4722-4292-da1f-6678e08132b2",
        "colab": {
          "base_uri": "https://localhost:8080/",
          "height": 217
        }
      },
      "cell_type": "code",
      "source": [
        "print_model(1,padding_in=\"same\",bias_in=False)"
      ],
      "execution_count": 4,
      "outputs": [
        {
          "output_type": "stream",
          "text": [
            "_________________________________________________________________\n",
            "Layer (type)                 Output Shape              Param #   \n",
            "=================================================================\n",
            "input_1 (InputLayer)         (None, 512, 512, 3)       0         \n",
            "_________________________________________________________________\n",
            "conv2d (Conv2D)              (None, 512, 512, 32)      2400      \n",
            "=================================================================\n",
            "Total params: 2,400\n",
            "Trainable params: 2,400\n",
            "Non-trainable params: 0\n",
            "_________________________________________________________________\n"
          ],
          "name": "stdout"
        }
      ]
    },
    {
      "metadata": {
        "id": "Kc95cVVygqIf",
        "colab_type": "code",
        "outputId": "bf976558-c833-48c5-cab9-d7d760cb8da5",
        "colab": {
          "base_uri": "https://localhost:8080/",
          "height": 217
        }
      },
      "cell_type": "code",
      "source": [
        "print_model(2,padding_in=\"same\",bias_in=False)"
      ],
      "execution_count": 5,
      "outputs": [
        {
          "output_type": "stream",
          "text": [
            "_________________________________________________________________\n",
            "Layer (type)                 Output Shape              Param #   \n",
            "=================================================================\n",
            "input_2 (InputLayer)         (None, 512, 512, 3)       0         \n",
            "_________________________________________________________________\n",
            "conv2d_1 (Conv2D)            (None, 256, 256, 32)      2400      \n",
            "=================================================================\n",
            "Total params: 2,400\n",
            "Trainable params: 2,400\n",
            "Non-trainable params: 0\n",
            "_________________________________________________________________\n"
          ],
          "name": "stdout"
        }
      ]
    },
    {
      "metadata": {
        "id": "NfrcoM0ggub0",
        "colab_type": "code",
        "outputId": "36d87986-f613-44b6-fb70-53df1c92ffc0",
        "colab": {
          "base_uri": "https://localhost:8080/",
          "height": 217
        }
      },
      "cell_type": "code",
      "source": [
        "print_model(4,padding_in=\"same\",bias_in=False)"
      ],
      "execution_count": 6,
      "outputs": [
        {
          "output_type": "stream",
          "text": [
            "_________________________________________________________________\n",
            "Layer (type)                 Output Shape              Param #   \n",
            "=================================================================\n",
            "input_3 (InputLayer)         (None, 512, 512, 3)       0         \n",
            "_________________________________________________________________\n",
            "conv2d_2 (Conv2D)            (None, 128, 128, 32)      2400      \n",
            "=================================================================\n",
            "Total params: 2,400\n",
            "Trainable params: 2,400\n",
            "Non-trainable params: 0\n",
            "_________________________________________________________________\n"
          ],
          "name": "stdout"
        }
      ]
    },
    {
      "metadata": {
        "id": "05VC3eg8g0hv",
        "colab_type": "code",
        "outputId": "254f221b-55bf-4eae-efca-d25ae5554643",
        "colab": {
          "base_uri": "https://localhost:8080/",
          "height": 217
        }
      },
      "cell_type": "code",
      "source": [
        "print_model(1,padding_in=\"valid\",bias_in=False)"
      ],
      "execution_count": 7,
      "outputs": [
        {
          "output_type": "stream",
          "text": [
            "_________________________________________________________________\n",
            "Layer (type)                 Output Shape              Param #   \n",
            "=================================================================\n",
            "input_4 (InputLayer)         (None, 512, 512, 3)       0         \n",
            "_________________________________________________________________\n",
            "conv2d_3 (Conv2D)            (None, 508, 508, 32)      2400      \n",
            "=================================================================\n",
            "Total params: 2,400\n",
            "Trainable params: 2,400\n",
            "Non-trainable params: 0\n",
            "_________________________________________________________________\n"
          ],
          "name": "stdout"
        }
      ]
    },
    {
      "metadata": {
        "id": "C-2spw46hfJX",
        "colab_type": "code",
        "outputId": "348247f2-eb61-4bc6-bc01-cd3b9a3a23f7",
        "colab": {
          "base_uri": "https://localhost:8080/",
          "height": 217
        }
      },
      "cell_type": "code",
      "source": [
        "print_model(1,padding_in=\"same\",bias_in=True)"
      ],
      "execution_count": 8,
      "outputs": [
        {
          "output_type": "stream",
          "text": [
            "_________________________________________________________________\n",
            "Layer (type)                 Output Shape              Param #   \n",
            "=================================================================\n",
            "input_5 (InputLayer)         (None, 512, 512, 3)       0         \n",
            "_________________________________________________________________\n",
            "conv2d_4 (Conv2D)            (None, 512, 512, 32)      2432      \n",
            "=================================================================\n",
            "Total params: 2,432\n",
            "Trainable params: 2,432\n",
            "Non-trainable params: 0\n",
            "_________________________________________________________________\n"
          ],
          "name": "stdout"
        }
      ]
    },
    {
      "metadata": {
        "id": "SzpSeUdoJUfT",
        "colab_type": "text"
      },
      "cell_type": "markdown",
      "source": [
        "**The activation layer**"
      ]
    },
    {
      "metadata": {
        "id": "klY5MtyZhkFG",
        "colab_type": "code",
        "colab": {}
      },
      "cell_type": "code",
      "source": [
        "# define model\n",
        "def print_model():\n",
        "  \"\"\"\n",
        "  create sample model and print model summary\n",
        "  \"\"\"\n",
        "  # create input layer\n",
        "  input1 = tf.keras.Input(shape=(512,512,3))\n",
        "  \n",
        "  # create convolution layer  \n",
        "  conv1 = tf.keras.layers.Conv2D(32,\n",
        "                                 kernel_size=(5,5),\n",
        "                                 strides=1,\n",
        "                                 padding=\"same\",\n",
        "                                 use_bias=True)(input1)\n",
        "  \n",
        "  # create activation layer\n",
        "  act1 = tf.keras.layers.Activation('relu')(conv1)\n",
        "  \n",
        "  # create model\n",
        "  model = tf.keras.Model(inputs=input1,\n",
        "                         outputs=act1)\n",
        "  \n",
        "  # print model summary\n",
        "  model.summary()"
      ],
      "execution_count": 0,
      "outputs": []
    },
    {
      "metadata": {
        "id": "ztkxK906iKXi",
        "colab_type": "code",
        "outputId": "1a122d11-3be5-4c68-c566-0cdf44e51f7e",
        "colab": {
          "base_uri": "https://localhost:8080/",
          "height": 254
        }
      },
      "cell_type": "code",
      "source": [
        "print_model()"
      ],
      "execution_count": 10,
      "outputs": [
        {
          "output_type": "stream",
          "text": [
            "_________________________________________________________________\n",
            "Layer (type)                 Output Shape              Param #   \n",
            "=================================================================\n",
            "input_6 (InputLayer)         (None, 512, 512, 3)       0         \n",
            "_________________________________________________________________\n",
            "conv2d_5 (Conv2D)            (None, 512, 512, 32)      2432      \n",
            "_________________________________________________________________\n",
            "activation (Activation)      (None, 512, 512, 32)      0         \n",
            "=================================================================\n",
            "Total params: 2,432\n",
            "Trainable params: 2,432\n",
            "Non-trainable params: 0\n",
            "_________________________________________________________________\n"
          ],
          "name": "stdout"
        }
      ]
    },
    {
      "metadata": {
        "id": "uaYa5UDWJW8_",
        "colab_type": "text"
      },
      "cell_type": "markdown",
      "source": [
        "**The pooling layer**"
      ]
    },
    {
      "metadata": {
        "id": "i9xRcNDPib-C",
        "colab_type": "code",
        "colab": {}
      },
      "cell_type": "code",
      "source": [
        "# define model\n",
        "def print_model():\n",
        "  \"\"\"\n",
        "  create sample model and print model summary\n",
        "  \"\"\"\n",
        "  # create input layer\n",
        "  input1 = tf.keras.Input(shape=(512,512,3))\n",
        "  \n",
        "  # create convolution layer  \n",
        "  conv1 = tf.keras.layers.Conv2D(32,\n",
        "                                 kernel_size=(5,5),\n",
        "                                 strides=1,\n",
        "                                 padding=\"same\",\n",
        "                                 use_bias=True)(input1)\n",
        "  \n",
        "  # create pooling layer\n",
        "  pool1 = tf.keras.layers.MaxPooling2D(pool_size=(2,2))(conv1)\n",
        "  \n",
        "  # create model\n",
        "  model = tf.keras.Model(inputs=input1,\n",
        "                         outputs=pool1)\n",
        "  \n",
        "  # print model summary\n",
        "  model.summary()"
      ],
      "execution_count": 0,
      "outputs": []
    },
    {
      "metadata": {
        "id": "vsHmKPQricUL",
        "colab_type": "code",
        "outputId": "fcb96648-e0f9-476e-ce18-8c39faa00a17",
        "colab": {
          "base_uri": "https://localhost:8080/",
          "height": 254
        }
      },
      "cell_type": "code",
      "source": [
        "print_model()"
      ],
      "execution_count": 12,
      "outputs": [
        {
          "output_type": "stream",
          "text": [
            "_________________________________________________________________\n",
            "Layer (type)                 Output Shape              Param #   \n",
            "=================================================================\n",
            "input_7 (InputLayer)         (None, 512, 512, 3)       0         \n",
            "_________________________________________________________________\n",
            "conv2d_6 (Conv2D)            (None, 512, 512, 32)      2432      \n",
            "_________________________________________________________________\n",
            "max_pooling2d (MaxPooling2D) (None, 256, 256, 32)      0         \n",
            "=================================================================\n",
            "Total params: 2,432\n",
            "Trainable params: 2,432\n",
            "Non-trainable params: 0\n",
            "_________________________________________________________________\n"
          ],
          "name": "stdout"
        }
      ]
    },
    {
      "metadata": {
        "id": "og3ST2zLJZB2",
        "colab_type": "text"
      },
      "cell_type": "markdown",
      "source": [
        "**The fully connected layer**"
      ]
    },
    {
      "metadata": {
        "id": "YG7EyYAfjUDc",
        "colab_type": "code",
        "colab": {}
      },
      "cell_type": "code",
      "source": [
        "# define model\n",
        "def print_model():\n",
        "  \"\"\"\n",
        "  create sample model and print model summary\n",
        "  \"\"\"\n",
        "  # create input layer\n",
        "  input1 = tf.keras.Input(shape=(512,))\n",
        "  \n",
        "  # create dense layer\n",
        "  dense1 = tf.keras.layers.Dense(32)(input1)\n",
        "  \n",
        "  # create model\n",
        "  model = tf.keras.Model(inputs=input1,\n",
        "                         outputs=dense1)\n",
        "  \n",
        "  # print model summary\n",
        "  model.summary()"
      ],
      "execution_count": 0,
      "outputs": []
    },
    {
      "metadata": {
        "id": "ShAE4aGOjUqd",
        "colab_type": "code",
        "outputId": "2a91b7d2-41a9-4665-835b-d3a2486d6a10",
        "colab": {
          "base_uri": "https://localhost:8080/",
          "height": 217
        }
      },
      "cell_type": "code",
      "source": [
        "print_model()"
      ],
      "execution_count": 14,
      "outputs": [
        {
          "output_type": "stream",
          "text": [
            "_________________________________________________________________\n",
            "Layer (type)                 Output Shape              Param #   \n",
            "=================================================================\n",
            "input_8 (InputLayer)         (None, 512)               0         \n",
            "_________________________________________________________________\n",
            "dense (Dense)                (None, 32)                16416     \n",
            "=================================================================\n",
            "Total params: 16,416\n",
            "Trainable params: 16,416\n",
            "Non-trainable params: 0\n",
            "_________________________________________________________________\n"
          ],
          "name": "stdout"
        }
      ]
    }
  ]
}